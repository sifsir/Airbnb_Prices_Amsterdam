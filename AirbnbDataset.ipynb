{
 "cells": [
  {
   "cell_type": "markdown",
   "metadata": {},
   "source": [
    "# Introduction \n",
    "Name: Sifra Hilda Juliana Siregar\n",
    "\n",
    "Objectives: This program is designed to perform an analysis of the Airbnb dataset in Amsterdam, focusing on common properties and the distribution of property prices."
   ]
  },
  {
   "cell_type": "markdown",
   "metadata": {},
   "source": [
    "## Business Understanding"
   ]
  },
  {
   "cell_type": "markdown",
   "metadata": {},
   "source": [
    "Specific:\n",
    "\n",
    "> Understand specific characteristics, especially pricing, of Airbnb listings in Amsterdam.\n",
    "\n",
    "Measurable:\n",
    "\n",
    "> Use statistical tests to measure significance in the relationship between relevant variables.\n",
    "> Calculate descriptive statistics such as mean, median, and distribution for various variables.\n",
    "\n",
    "Achievable:\n",
    "\n",
    "> All questions and parameters can be addressed with the available dataset.\n",
    "\n",
    "Relevant:\n",
    "\n",
    "> The analysis results provide valuable information for property owners to set competitive prices, prospective guests to choose properties based on preferences, and market analysts to comprehend market trends.\n",
    "\n",
    "Time-Bound:\n",
    "\n",
    "> This analysis will be completed within a specified timeframe.\n",
    "\n",
    "*Problem Statement*:\n",
    "\n",
    "How can we comprehend pricing patterns, guest preferences, and factors influencing satisfaction levels in the Amsterdam Airbnb market?"
   ]
  },
  {
   "cell_type": "markdown",
   "metadata": {},
   "source": [
    "### Breaking Down the Problem\n",
    "\n",
    "In analyzing the selected dataset, I will use 6 questions to break down the problem for easier analysis.\n",
    "\n",
    "**1.**\n",
    "What type of property is most common among the top 10 property types in the Amsterdam Airbnb dataset, and what percentage does it represent of the total top property types?\n",
    "\n",
    "**2:** \n",
    "How does the difference between the mean and median affect the interpretation of the property price distribution?\n",
    "\n",
    "**3:**\n",
    "What is the distribution of rating scores among the top 10 property types?\n",
    "\n",
    "**4:**\n",
    "Which areas have the highest and lowest average property prices?\n",
    "\n",
    "**5:**\n",
    "Based on the average rental prices according to the number of bedrooms in this dataset, is there a price trend with an increasing number of bedrooms?\n",
    "\n",
    "**6:** \n",
    "Is the correlation between price and review_scores_rating statistically significant?\n",
    "\n",
    "**7:** \n",
    "Are there significant price changes between properties hosted by superhosts and those not hosted by superhosts?\n"
   ]
  },
  {
   "cell_type": "markdown",
   "metadata": {},
   "source": [
    "## Data Loading"
   ]
  },
  {
   "cell_type": "code",
   "execution_count": null,
   "metadata": {},
   "outputs": [],
   "source": [
    "import requests\n",
    "import pandas as pd\n",
    "import seaborn as sns\n",
    "import matplotlib.pyplot as plt\n",
    "import warnings\n",
    "from scipy import stats\n",
    "from scipy.stats import pearsonr"
   ]
  },
  {
   "cell_type": "code",
   "execution_count": null,
   "metadata": {},
   "outputs": [],
   "source": [
    "# supressing warnings\n",
    "warnings.filterwarnings('ignore')"
   ]
  },
  {
   "cell_type": "code",
   "execution_count": null,
   "metadata": {},
   "outputs": [],
   "source": [
    "#read csv \n",
    "df=pd.read_csv ('listingsair.csv')"
   ]
  },
  {
   "cell_type": "code",
   "execution_count": null,
   "metadata": {},
   "outputs": [
    {
     "data": {
      "text/plain": [
       "(6173, 44)"
      ]
     },
     "execution_count": 37,
     "metadata": {},
     "output_type": "execute_result"
    }
   ],
   "source": [
    "#show data shape\n",
    "df.shape"
   ]
  },
  {
   "cell_type": "code",
   "execution_count": null,
   "metadata": {},
   "outputs": [
    {
     "name": "stdout",
     "output_type": "stream",
     "text": [
      "<class 'pandas.core.frame.DataFrame'>\n",
      "RangeIndex: 6173 entries, 0 to 6172\n",
      "Data columns (total 44 columns):\n",
      " #   Column                                        Non-Null Count  Dtype  \n",
      "---  ------                                        --------------  -----  \n",
      " 0   id                                            6173 non-null   int64  \n",
      " 1   last_scraped                                  6173 non-null   object \n",
      " 2   host_id                                       6173 non-null   int64  \n",
      " 3   host_since                                    6173 non-null   object \n",
      " 4   host_response_time                            4692 non-null   object \n",
      " 5   host_is_superhost                             6173 non-null   object \n",
      " 6   host_listings_count                           6173 non-null   int64  \n",
      " 7   host_total_listings_count                     6173 non-null   int64  \n",
      " 8   host_identity_verified                        6173 non-null   object \n",
      " 9   neighbourhood_cleansed                        6173 non-null   object \n",
      " 10  property_type                                 6173 non-null   object \n",
      " 11  room_type                                     6173 non-null   object \n",
      " 12  accommodates                                  6173 non-null   int64  \n",
      " 13  bathrooms_text                                6158 non-null   object \n",
      " 14  bedrooms                                      5859 non-null   float64\n",
      " 15  beds                                          6082 non-null   float64\n",
      " 16  amenities                                     6173 non-null   object \n",
      " 17  price                                         6173 non-null   float64\n",
      " 18  minimum_nights                                6173 non-null   int64  \n",
      " 19  maximum_nights                                6173 non-null   int64  \n",
      " 20  minimum_minimum_nights                        6171 non-null   float64\n",
      " 21  maximum_minimum_nights                        6171 non-null   float64\n",
      " 22  minimum_maximum_nights                        6171 non-null   float64\n",
      " 23  maximum_maximum_nights                        6171 non-null   float64\n",
      " 24  minimum_nights_avg_ntm                        6171 non-null   float64\n",
      " 25  maximum_nights_avg_ntm                        6171 non-null   float64\n",
      " 26  has_availability                              6173 non-null   object \n",
      " 27  availability_30                               6173 non-null   int64  \n",
      " 28  availability_60                               6173 non-null   int64  \n",
      " 29  availability_90                               6173 non-null   int64  \n",
      " 30  availability_365                              6173 non-null   int64  \n",
      " 31  number_of_reviews                             6173 non-null   int64  \n",
      " 32  number_of_reviews_ltm                         6173 non-null   int64  \n",
      " 33  number_of_reviews_l30d                        6173 non-null   int64  \n",
      " 34  first_review                                  5583 non-null   object \n",
      " 35  last_review                                   5583 non-null   object \n",
      " 36  review_scores_rating                          5583 non-null   float64\n",
      " 37  review_scores_value                           5575 non-null   float64\n",
      " 38  instant_bookable                              6173 non-null   object \n",
      " 39  calculated_host_listings_count                6173 non-null   int64  \n",
      " 40  calculated_host_listings_count_entire_homes   6173 non-null   int64  \n",
      " 41  calculated_host_listings_count_private_rooms  6173 non-null   int64  \n",
      " 42  calculated_host_listings_count_shared_rooms   6173 non-null   int64  \n",
      " 43  reviews_per_month                             5583 non-null   float64\n",
      "dtypes: float64(12), int64(18), object(14)\n",
      "memory usage: 2.1+ MB\n"
     ]
    }
   ],
   "source": [
    "#show data info\n",
    "df.info()"
   ]
  },
  {
   "cell_type": "code",
   "execution_count": null,
   "metadata": {},
   "outputs": [
    {
     "data": {
      "text/html": [
       "<div>\n",
       "<style scoped>\n",
       "    .dataframe tbody tr th:only-of-type {\n",
       "        vertical-align: middle;\n",
       "    }\n",
       "\n",
       "    .dataframe tbody tr th {\n",
       "        vertical-align: top;\n",
       "    }\n",
       "\n",
       "    .dataframe thead th {\n",
       "        text-align: right;\n",
       "    }\n",
       "</style>\n",
       "<table border=\"1\" class=\"dataframe\">\n",
       "  <thead>\n",
       "    <tr style=\"text-align: right;\">\n",
       "      <th></th>\n",
       "      <th>id</th>\n",
       "      <th>last_scraped</th>\n",
       "      <th>host_id</th>\n",
       "      <th>host_since</th>\n",
       "      <th>host_response_time</th>\n",
       "      <th>host_is_superhost</th>\n",
       "      <th>host_listings_count</th>\n",
       "      <th>host_total_listings_count</th>\n",
       "      <th>host_identity_verified</th>\n",
       "      <th>neighbourhood_cleansed</th>\n",
       "      <th>property_type</th>\n",
       "      <th>room_type</th>\n",
       "      <th>accommodates</th>\n",
       "      <th>bathrooms_text</th>\n",
       "      <th>bedrooms</th>\n",
       "      <th>beds</th>\n",
       "      <th>amenities</th>\n",
       "      <th>price</th>\n",
       "      <th>minimum_nights</th>\n",
       "      <th>maximum_nights</th>\n",
       "      <th>minimum_minimum_nights</th>\n",
       "      <th>maximum_minimum_nights</th>\n",
       "      <th>minimum_maximum_nights</th>\n",
       "      <th>maximum_maximum_nights</th>\n",
       "      <th>minimum_nights_avg_ntm</th>\n",
       "      <th>maximum_nights_avg_ntm</th>\n",
       "      <th>has_availability</th>\n",
       "      <th>availability_30</th>\n",
       "      <th>availability_60</th>\n",
       "      <th>availability_90</th>\n",
       "      <th>availability_365</th>\n",
       "      <th>number_of_reviews</th>\n",
       "      <th>number_of_reviews_ltm</th>\n",
       "      <th>number_of_reviews_l30d</th>\n",
       "      <th>first_review</th>\n",
       "      <th>last_review</th>\n",
       "      <th>review_scores_rating</th>\n",
       "      <th>review_scores_value</th>\n",
       "      <th>instant_bookable</th>\n",
       "      <th>calculated_host_listings_count</th>\n",
       "      <th>calculated_host_listings_count_entire_homes</th>\n",
       "      <th>calculated_host_listings_count_private_rooms</th>\n",
       "      <th>calculated_host_listings_count_shared_rooms</th>\n",
       "      <th>reviews_per_month</th>\n",
       "    </tr>\n",
       "  </thead>\n",
       "  <tbody>\n",
       "    <tr>\n",
       "      <th>0</th>\n",
       "      <td>23726706</td>\n",
       "      <td>2022-06-05</td>\n",
       "      <td>122619127</td>\n",
       "      <td>2017-03-26</td>\n",
       "      <td>within an hour</td>\n",
       "      <td>f</td>\n",
       "      <td>1</td>\n",
       "      <td>1</td>\n",
       "      <td>t</td>\n",
       "      <td>IJburg - Zeeburgereiland</td>\n",
       "      <td>Private room in home</td>\n",
       "      <td>Private room</td>\n",
       "      <td>2</td>\n",
       "      <td>1 shared bath</td>\n",
       "      <td>1.0</td>\n",
       "      <td>1.0</td>\n",
       "      <td>[\"Carbon monoxide alarm\", \"Dishes and silverwa...</td>\n",
       "      <td>88.0</td>\n",
       "      <td>2</td>\n",
       "      <td>14</td>\n",
       "      <td>2.0</td>\n",
       "      <td>2.0</td>\n",
       "      <td>1125.0</td>\n",
       "      <td>1125.0</td>\n",
       "      <td>2.0</td>\n",
       "      <td>1125.0</td>\n",
       "      <td>t</td>\n",
       "      <td>0</td>\n",
       "      <td>6</td>\n",
       "      <td>20</td>\n",
       "      <td>66</td>\n",
       "      <td>78</td>\n",
       "      <td>11</td>\n",
       "      <td>3</td>\n",
       "      <td>2018-03-26</td>\n",
       "      <td>2022-05-29</td>\n",
       "      <td>4.99</td>\n",
       "      <td>4.87</td>\n",
       "      <td>t</td>\n",
       "      <td>1</td>\n",
       "      <td>0</td>\n",
       "      <td>1</td>\n",
       "      <td>0</td>\n",
       "      <td>1.53</td>\n",
       "    </tr>\n",
       "    <tr>\n",
       "      <th>1</th>\n",
       "      <td>35815036</td>\n",
       "      <td>2022-06-05</td>\n",
       "      <td>269425139</td>\n",
       "      <td>2019-06-18</td>\n",
       "      <td>within an hour</td>\n",
       "      <td>t</td>\n",
       "      <td>1</td>\n",
       "      <td>1</td>\n",
       "      <td>t</td>\n",
       "      <td>Noord-Oost</td>\n",
       "      <td>Tiny home</td>\n",
       "      <td>Entire home/apt</td>\n",
       "      <td>2</td>\n",
       "      <td>1.5 baths</td>\n",
       "      <td>NaN</td>\n",
       "      <td>1.0</td>\n",
       "      <td>[\"Carbon monoxide alarm\", \"Dishes and silverwa...</td>\n",
       "      <td>105.0</td>\n",
       "      <td>3</td>\n",
       "      <td>100</td>\n",
       "      <td>1.0</td>\n",
       "      <td>3.0</td>\n",
       "      <td>1125.0</td>\n",
       "      <td>1125.0</td>\n",
       "      <td>3.0</td>\n",
       "      <td>1125.0</td>\n",
       "      <td>t</td>\n",
       "      <td>4</td>\n",
       "      <td>6</td>\n",
       "      <td>12</td>\n",
       "      <td>243</td>\n",
       "      <td>95</td>\n",
       "      <td>36</td>\n",
       "      <td>6</td>\n",
       "      <td>2019-06-26</td>\n",
       "      <td>2022-06-02</td>\n",
       "      <td>4.96</td>\n",
       "      <td>4.83</td>\n",
       "      <td>f</td>\n",
       "      <td>1</td>\n",
       "      <td>1</td>\n",
       "      <td>0</td>\n",
       "      <td>0</td>\n",
       "      <td>2.65</td>\n",
       "    </tr>\n",
       "    <tr>\n",
       "      <th>2</th>\n",
       "      <td>31553121</td>\n",
       "      <td>2022-06-05</td>\n",
       "      <td>76806621</td>\n",
       "      <td>2016-06-09</td>\n",
       "      <td>within an hour</td>\n",
       "      <td>f</td>\n",
       "      <td>1</td>\n",
       "      <td>1</td>\n",
       "      <td>t</td>\n",
       "      <td>Noord-West</td>\n",
       "      <td>Entire guesthouse</td>\n",
       "      <td>Entire home/apt</td>\n",
       "      <td>4</td>\n",
       "      <td>1 bath</td>\n",
       "      <td>1.0</td>\n",
       "      <td>3.0</td>\n",
       "      <td>[\"Dishwasher\", \"Carbon monoxide alarm\", \"Ether...</td>\n",
       "      <td>152.0</td>\n",
       "      <td>2</td>\n",
       "      <td>60</td>\n",
       "      <td>2.0</td>\n",
       "      <td>2.0</td>\n",
       "      <td>1125.0</td>\n",
       "      <td>1125.0</td>\n",
       "      <td>2.0</td>\n",
       "      <td>1125.0</td>\n",
       "      <td>t</td>\n",
       "      <td>0</td>\n",
       "      <td>3</td>\n",
       "      <td>3</td>\n",
       "      <td>3</td>\n",
       "      <td>82</td>\n",
       "      <td>26</td>\n",
       "      <td>1</td>\n",
       "      <td>2019-02-04</td>\n",
       "      <td>2022-05-29</td>\n",
       "      <td>4.74</td>\n",
       "      <td>4.59</td>\n",
       "      <td>f</td>\n",
       "      <td>1</td>\n",
       "      <td>1</td>\n",
       "      <td>0</td>\n",
       "      <td>0</td>\n",
       "      <td>2.02</td>\n",
       "    </tr>\n",
       "    <tr>\n",
       "      <th>3</th>\n",
       "      <td>34745823</td>\n",
       "      <td>2022-06-05</td>\n",
       "      <td>238083700</td>\n",
       "      <td>2019-01-21</td>\n",
       "      <td>within an hour</td>\n",
       "      <td>f</td>\n",
       "      <td>3</td>\n",
       "      <td>3</td>\n",
       "      <td>t</td>\n",
       "      <td>Gaasperdam - Driemond</td>\n",
       "      <td>Entire rental unit</td>\n",
       "      <td>Entire home/apt</td>\n",
       "      <td>2</td>\n",
       "      <td>1 bath</td>\n",
       "      <td>1.0</td>\n",
       "      <td>2.0</td>\n",
       "      <td>[\"Essentials\", \"Smoke alarm\", \"Host greets you...</td>\n",
       "      <td>87.0</td>\n",
       "      <td>2</td>\n",
       "      <td>1125</td>\n",
       "      <td>2.0</td>\n",
       "      <td>2.0</td>\n",
       "      <td>1125.0</td>\n",
       "      <td>1125.0</td>\n",
       "      <td>2.0</td>\n",
       "      <td>1125.0</td>\n",
       "      <td>t</td>\n",
       "      <td>5</td>\n",
       "      <td>20</td>\n",
       "      <td>26</td>\n",
       "      <td>290</td>\n",
       "      <td>39</td>\n",
       "      <td>4</td>\n",
       "      <td>0</td>\n",
       "      <td>2019-06-14</td>\n",
       "      <td>2022-04-17</td>\n",
       "      <td>4.87</td>\n",
       "      <td>4.90</td>\n",
       "      <td>f</td>\n",
       "      <td>3</td>\n",
       "      <td>3</td>\n",
       "      <td>0</td>\n",
       "      <td>0</td>\n",
       "      <td>1.08</td>\n",
       "    </tr>\n",
       "    <tr>\n",
       "      <th>4</th>\n",
       "      <td>44586947</td>\n",
       "      <td>2022-06-05</td>\n",
       "      <td>360838688</td>\n",
       "      <td>2020-08-06</td>\n",
       "      <td>within a few hours</td>\n",
       "      <td>t</td>\n",
       "      <td>0</td>\n",
       "      <td>0</td>\n",
       "      <td>f</td>\n",
       "      <td>Gaasperdam - Driemond</td>\n",
       "      <td>Private room in home</td>\n",
       "      <td>Private room</td>\n",
       "      <td>4</td>\n",
       "      <td>1 shared bath</td>\n",
       "      <td>2.0</td>\n",
       "      <td>3.0</td>\n",
       "      <td>[\"Dishwasher\", \"Body soap\", \"Microwave\", \"Baki...</td>\n",
       "      <td>160.0</td>\n",
       "      <td>2</td>\n",
       "      <td>31</td>\n",
       "      <td>2.0</td>\n",
       "      <td>2.0</td>\n",
       "      <td>31.0</td>\n",
       "      <td>31.0</td>\n",
       "      <td>2.0</td>\n",
       "      <td>31.0</td>\n",
       "      <td>t</td>\n",
       "      <td>9</td>\n",
       "      <td>32</td>\n",
       "      <td>62</td>\n",
       "      <td>152</td>\n",
       "      <td>15</td>\n",
       "      <td>12</td>\n",
       "      <td>3</td>\n",
       "      <td>2020-08-16</td>\n",
       "      <td>2022-05-29</td>\n",
       "      <td>5.00</td>\n",
       "      <td>4.80</td>\n",
       "      <td>f</td>\n",
       "      <td>1</td>\n",
       "      <td>0</td>\n",
       "      <td>1</td>\n",
       "      <td>0</td>\n",
       "      <td>0.68</td>\n",
       "    </tr>\n",
       "  </tbody>\n",
       "</table>\n",
       "</div>"
      ],
      "text/plain": [
       "         id last_scraped    host_id  host_since  host_response_time  \\\n",
       "0  23726706   2022-06-05  122619127  2017-03-26      within an hour   \n",
       "1  35815036   2022-06-05  269425139  2019-06-18      within an hour   \n",
       "2  31553121   2022-06-05   76806621  2016-06-09      within an hour   \n",
       "3  34745823   2022-06-05  238083700  2019-01-21      within an hour   \n",
       "4  44586947   2022-06-05  360838688  2020-08-06  within a few hours   \n",
       "\n",
       "  host_is_superhost  host_listings_count  host_total_listings_count  \\\n",
       "0                 f                    1                          1   \n",
       "1                 t                    1                          1   \n",
       "2                 f                    1                          1   \n",
       "3                 f                    3                          3   \n",
       "4                 t                    0                          0   \n",
       "\n",
       "  host_identity_verified    neighbourhood_cleansed         property_type  \\\n",
       "0                      t  IJburg - Zeeburgereiland  Private room in home   \n",
       "1                      t                Noord-Oost             Tiny home   \n",
       "2                      t                Noord-West     Entire guesthouse   \n",
       "3                      t     Gaasperdam - Driemond    Entire rental unit   \n",
       "4                      f     Gaasperdam - Driemond  Private room in home   \n",
       "\n",
       "         room_type  accommodates bathrooms_text  bedrooms  beds  \\\n",
       "0     Private room             2  1 shared bath       1.0   1.0   \n",
       "1  Entire home/apt             2      1.5 baths       NaN   1.0   \n",
       "2  Entire home/apt             4         1 bath       1.0   3.0   \n",
       "3  Entire home/apt             2         1 bath       1.0   2.0   \n",
       "4     Private room             4  1 shared bath       2.0   3.0   \n",
       "\n",
       "                                           amenities  price  minimum_nights  \\\n",
       "0  [\"Carbon monoxide alarm\", \"Dishes and silverwa...   88.0               2   \n",
       "1  [\"Carbon monoxide alarm\", \"Dishes and silverwa...  105.0               3   \n",
       "2  [\"Dishwasher\", \"Carbon monoxide alarm\", \"Ether...  152.0               2   \n",
       "3  [\"Essentials\", \"Smoke alarm\", \"Host greets you...   87.0               2   \n",
       "4  [\"Dishwasher\", \"Body soap\", \"Microwave\", \"Baki...  160.0               2   \n",
       "\n",
       "   maximum_nights  minimum_minimum_nights  maximum_minimum_nights  \\\n",
       "0              14                     2.0                     2.0   \n",
       "1             100                     1.0                     3.0   \n",
       "2              60                     2.0                     2.0   \n",
       "3            1125                     2.0                     2.0   \n",
       "4              31                     2.0                     2.0   \n",
       "\n",
       "   minimum_maximum_nights  maximum_maximum_nights  minimum_nights_avg_ntm  \\\n",
       "0                  1125.0                  1125.0                     2.0   \n",
       "1                  1125.0                  1125.0                     3.0   \n",
       "2                  1125.0                  1125.0                     2.0   \n",
       "3                  1125.0                  1125.0                     2.0   \n",
       "4                    31.0                    31.0                     2.0   \n",
       "\n",
       "   maximum_nights_avg_ntm has_availability  availability_30  availability_60  \\\n",
       "0                  1125.0                t                0                6   \n",
       "1                  1125.0                t                4                6   \n",
       "2                  1125.0                t                0                3   \n",
       "3                  1125.0                t                5               20   \n",
       "4                    31.0                t                9               32   \n",
       "\n",
       "   availability_90  availability_365  number_of_reviews  \\\n",
       "0               20                66                 78   \n",
       "1               12               243                 95   \n",
       "2                3                 3                 82   \n",
       "3               26               290                 39   \n",
       "4               62               152                 15   \n",
       "\n",
       "   number_of_reviews_ltm  number_of_reviews_l30d first_review last_review  \\\n",
       "0                     11                       3   2018-03-26  2022-05-29   \n",
       "1                     36                       6   2019-06-26  2022-06-02   \n",
       "2                     26                       1   2019-02-04  2022-05-29   \n",
       "3                      4                       0   2019-06-14  2022-04-17   \n",
       "4                     12                       3   2020-08-16  2022-05-29   \n",
       "\n",
       "   review_scores_rating  review_scores_value instant_bookable  \\\n",
       "0                  4.99                 4.87                t   \n",
       "1                  4.96                 4.83                f   \n",
       "2                  4.74                 4.59                f   \n",
       "3                  4.87                 4.90                f   \n",
       "4                  5.00                 4.80                f   \n",
       "\n",
       "   calculated_host_listings_count  \\\n",
       "0                               1   \n",
       "1                               1   \n",
       "2                               1   \n",
       "3                               3   \n",
       "4                               1   \n",
       "\n",
       "   calculated_host_listings_count_entire_homes  \\\n",
       "0                                            0   \n",
       "1                                            1   \n",
       "2                                            1   \n",
       "3                                            3   \n",
       "4                                            0   \n",
       "\n",
       "   calculated_host_listings_count_private_rooms  \\\n",
       "0                                             1   \n",
       "1                                             0   \n",
       "2                                             0   \n",
       "3                                             0   \n",
       "4                                             1   \n",
       "\n",
       "   calculated_host_listings_count_shared_rooms  reviews_per_month  \n",
       "0                                            0               1.53  \n",
       "1                                            0               2.65  \n",
       "2                                            0               2.02  \n",
       "3                                            0               1.08  \n",
       "4                                            0               0.68  "
      ]
     },
     "execution_count": 39,
     "metadata": {},
     "output_type": "execute_result"
    }
   ],
   "source": [
    "#show data head\n",
    "df \n",
    "pd.set_option('display.max_rows', None)\n",
    "pd.set_option('display.max_columns', None)\n",
    "df.head()\n"
   ]
  },
  {
   "cell_type": "markdown",
   "metadata": {},
   "source": [
    "For the case study that I will analyze, I do not need several columns below as they are *not relevant*:\n",
    "\n",
    "'last_scraped', 'host_listings_count', 'minimum_minimum_nights', 'availability_30', 'availability_60', 'availability_90', 'availability_365', 'maximum_minimum_nights', 'minimum_maximum_nights', 'maximum_maximum_nights', 'minimum_nights_avg_ntm', 'maximum_nights_avg_ntm', 'calculated_host_listings_count', 'calculated_host_listings_count_entire_homes', 'calculated_host_listings_count_private_rooms', 'calculated_host_listings_count_shared_rooms', 'host_response_time', 'accommodates', 'bathrooms_text', 'amenities', 'instant_bookable', 'reviews_per_month', 'has_availability', 'number_of_reviews_l30d', 'number_of_reviews_ltm', 'number_of_reviews_l30d'\n",
    "\n",
    "The analysis has also been filtered for the years 2019-2022 based on the 'first_review' and 'last_review' columns."
   ]
  },
  {
   "cell_type": "markdown",
   "metadata": {},
   "source": [
    "## Data Cleaning"
   ]
  },
  {
   "cell_type": "code",
   "execution_count": null,
   "metadata": {},
   "outputs": [],
   "source": [
    "#drop columns\n",
    "df =df.drop(columns=['last_scraped', 'host_listings_count', 'minimum_minimum_nights', 'availability_30', 'availability_60', 'availability_90', 'availability_365', 'maximum_minimum_nights', 'minimum_maximum_nights', 'maximum_maximum_nights', 'minimum_nights_avg_ntm', 'maximum_nights_avg_ntm', 'calculated_host_listings_count', 'calculated_host_listings_count_entire_homes', 'calculated_host_listings_count_private_rooms', 'calculated_host_listings_count_shared_rooms', 'host_response_time', 'accommodates', 'bathrooms_text', 'amenities', 'instant_bookable', 'reviews_per_month', 'has_availability', 'number_of_reviews_l30d', 'number_of_reviews_ltm', 'number_of_reviews_l30d'])\n"
   ]
  },
  {
   "cell_type": "code",
   "execution_count": null,
   "metadata": {},
   "outputs": [
    {
     "name": "stdout",
     "output_type": "stream",
     "text": [
      "datetime64[ns]\n",
      "datetime64[ns]\n",
      "datetime64[ns]\n"
     ]
    }
   ],
   "source": [
    "#change data type\n",
    "df['host_since'] = pd.to_datetime(df['host_since'])\n",
    "df['first_review'] = pd.to_datetime(df['first_review'])\n",
    "df['last_review'] = pd.to_datetime(df['last_review'])\n",
    "\n",
    "\n",
    "print(df['host_since'].dtype)\n",
    "print(df['first_review'].dtype)\n",
    "print(df['last_review'].dtype)"
   ]
  },
  {
   "cell_type": "code",
   "execution_count": null,
   "metadata": {},
   "outputs": [],
   "source": [
    "#change input column\n",
    "df['host_is_superhost'] = df['host_is_superhost'].replace({'t': True, 'f': False})"
   ]
  },
  {
   "cell_type": "code",
   "execution_count": null,
   "metadata": {},
   "outputs": [
    {
     "name": "stdout",
     "output_type": "stream",
     "text": [
      "bool\n",
      "bool\n"
     ]
    }
   ],
   "source": [
    "#change data type\n",
    "df['host_is_superhost'] = df['host_is_superhost'].astype(bool)\n",
    "df['host_identity_verified'] = df['host_identity_verified'].astype(bool)\n",
    "\n",
    "\n",
    "print(df['host_is_superhost'].dtype)\n",
    "print(df['host_identity_verified'].dtype)"
   ]
  },
  {
   "cell_type": "code",
   "execution_count": null,
   "metadata": {},
   "outputs": [
    {
     "data": {
      "text/plain": [
       "452"
      ]
     },
     "execution_count": 44,
     "metadata": {},
     "output_type": "execute_result"
    }
   ],
   "source": [
    "#show duplicated data on 'id'\n",
    "df['id'].duplicated().sum()"
   ]
  },
  {
   "cell_type": "code",
   "execution_count": null,
   "metadata": {},
   "outputs": [],
   "source": [
    "#removing the duplicated data from the 'id' column and determining the count\n",
    "df = df.drop_duplicates(subset = 'id')"
   ]
  },
  {
   "cell_type": "code",
   "execution_count": null,
   "metadata": {},
   "outputs": [],
   "source": [
    "#removing missing values in the 'review_scores_rating' and 'review_scores_value' columns\n",
    "df= df.dropna(subset = ['review_scores_rating', 'review_scores_value'])"
   ]
  },
  {
   "cell_type": "code",
   "execution_count": null,
   "metadata": {},
   "outputs": [],
   "source": [
    "#removing data with a value of 0 in the 'host_total_listings_count' column\n",
    "df = df[df['host_total_listings_count'] != 0]"
   ]
  },
  {
   "cell_type": "code",
   "execution_count": null,
   "metadata": {},
   "outputs": [],
   "source": [
    "#Filtering data for 'first_review' and 'last_review' from the year 2019\n",
    "df = df[(df['first_review'].dt.year >= 2019) |(df['first_review'].isna())]\n",
    "df = df[(df['last_review'].dt.year >= 2019) | (df['last_review'].isna())]"
   ]
  },
  {
   "cell_type": "markdown",
   "metadata": {},
   "source": [
    "## Analisa dan Perhitungan"
   ]
  },
  {
   "cell_type": "markdown",
   "metadata": {},
   "source": [
    "### GRAPH 1 (PIE CHART) \n",
    "The analysis conducted after data preparation involves examining the top 10 most frequent properties in the dataset."
   ]
  },
  {
   "cell_type": "code",
   "execution_count": null,
   "metadata": {},
   "outputs": [
    {
     "data": {
      "text/plain": [
       "property_type\n",
       "Entire rental unit                   469\n",
       "Private room in rental unit          107\n",
       "Entire home                          100\n",
       "Private room in bed and breakfast     84\n",
       "Entire condo                          76\n",
       "Room in hotel                         62\n",
       "Room in boutique hotel                61\n",
       "Entire serviced apartment             60\n",
       "Private room in home                  40\n",
       "Entire loft                           35\n",
       "Name: count, dtype: int64"
      ]
     },
     "execution_count": 51,
     "metadata": {},
     "output_type": "execute_result"
    }
   ],
   "source": [
    "#calculating the number of properties based on property type:\n",
    "property_type_counts= df['property_type'].value_counts()[0:10]\n",
    "property_type_counts"
   ]
  },
  {
   "cell_type": "markdown",
   "metadata": {},
   "source": [
    "From the above data, it can be concluded that the most common property type in the list is 'Entire rental unit' with a count of 469. Below is a pie chart representing the percentage distribution of the top 10 property types on Airbnb in Amsterdam."
   ]
  },
  {
   "cell_type": "code",
   "execution_count": null,
   "metadata": {},
   "outputs": [
    {
     "data": {
      "image/png": "[encoded data removed]",
      "text/plain": [
       "<Figure size 600x600 with 1 Axes>"
      ]
     },
     "metadata": {},
     "output_type": "display_data"
    }
   ],
   "source": [
    "#create a pie char\n",
    "plt.figure(figsize=(6, 6))\n",
    "plt.pie(property_type_counts, labels= property_type_counts.index, autopct='%1.0f%%', startangle=0)\n",
    "plt.title('Top 10 Property Types in Airbnb Amsterdam')\n",
    "plt.show()"
   ]
  },
  {
   "cell_type": "markdown",
   "metadata": {},
   "source": [
    "### Descriptive Statistics"
   ]
  },
  {
   "cell_type": "markdown",
   "metadata": {},
   "source": [
    "Can perform an analysis to find the average (mean) and middle value (median) of property prices for different types of properties"
   ]
  },
  {
   "cell_type": "code",
   "execution_count": null,
   "metadata": {},
   "outputs": [
    {
     "data": {
      "text/plain": [
       "Index(['Entire rental unit', 'Private room in rental unit', 'Entire home',\n",
       "       'Private room in bed and breakfast', 'Entire condo', 'Room in hotel',\n",
       "       'Room in boutique hotel', 'Entire serviced apartment',\n",
       "       'Private room in home', 'Entire loft'],\n",
       "      dtype='object', name='property_type')"
      ]
     },
     "execution_count": 53,
     "metadata": {},
     "output_type": "execute_result"
    }
   ],
   "source": [
    "#top 10 property types\n",
    "top_10_types = df['property_type'].value_counts().index[:10]\n",
    "\n",
    "top_10_types"
   ]
  },
  {
   "cell_type": "code",
   "execution_count": null,
   "metadata": {},
   "outputs": [
    {
     "data": {
      "text/html": [
       "<div>\n",
       "<style scoped>\n",
       "    .dataframe tbody tr th:only-of-type {\n",
       "        vertical-align: middle;\n",
       "    }\n",
       "\n",
       "    .dataframe tbody tr th {\n",
       "        vertical-align: top;\n",
       "    }\n",
       "\n",
       "    .dataframe thead th {\n",
       "        text-align: right;\n",
       "    }\n",
       "</style>\n",
       "<table border=\"1\" class=\"dataframe\">\n",
       "  <thead>\n",
       "    <tr style=\"text-align: right;\">\n",
       "      <th></th>\n",
       "      <th>mean</th>\n",
       "      <th>median</th>\n",
       "    </tr>\n",
       "    <tr>\n",
       "      <th>property_type</th>\n",
       "      <th></th>\n",
       "      <th></th>\n",
       "    </tr>\n",
       "  </thead>\n",
       "  <tbody>\n",
       "    <tr>\n",
       "      <th>Entire serviced apartment</th>\n",
       "      <td>348.933333</td>\n",
       "      <td>297.5</td>\n",
       "    </tr>\n",
       "    <tr>\n",
       "      <th>Room in boutique hotel</th>\n",
       "      <td>320.758632</td>\n",
       "      <td>242.0</td>\n",
       "    </tr>\n",
       "    <tr>\n",
       "      <th>Entire home</th>\n",
       "      <td>241.270000</td>\n",
       "      <td>179.5</td>\n",
       "    </tr>\n",
       "    <tr>\n",
       "      <th>Room in hotel</th>\n",
       "      <td>228.423816</td>\n",
       "      <td>209.5</td>\n",
       "    </tr>\n",
       "    <tr>\n",
       "      <th>Entire loft</th>\n",
       "      <td>223.571429</td>\n",
       "      <td>192.0</td>\n",
       "    </tr>\n",
       "    <tr>\n",
       "      <th>Entire condo</th>\n",
       "      <td>213.973684</td>\n",
       "      <td>182.5</td>\n",
       "    </tr>\n",
       "    <tr>\n",
       "      <th>Entire rental unit</th>\n",
       "      <td>203.803838</td>\n",
       "      <td>180.0</td>\n",
       "    </tr>\n",
       "    <tr>\n",
       "      <th>Private room in bed and breakfast</th>\n",
       "      <td>174.964286</td>\n",
       "      <td>158.5</td>\n",
       "    </tr>\n",
       "    <tr>\n",
       "      <th>Private room in rental unit</th>\n",
       "      <td>124.205607</td>\n",
       "      <td>108.0</td>\n",
       "    </tr>\n",
       "    <tr>\n",
       "      <th>Private room in home</th>\n",
       "      <td>106.675000</td>\n",
       "      <td>92.0</td>\n",
       "    </tr>\n",
       "  </tbody>\n",
       "</table>\n",
       "</div>"
      ],
      "text/plain": [
       "                                         mean  median\n",
       "property_type                                        \n",
       "Entire serviced apartment          348.933333   297.5\n",
       "Room in boutique hotel             320.758632   242.0\n",
       "Entire home                        241.270000   179.5\n",
       "Room in hotel                      228.423816   209.5\n",
       "Entire loft                        223.571429   192.0\n",
       "Entire condo                       213.973684   182.5\n",
       "Entire rental unit                 203.803838   180.0\n",
       "Private room in bed and breakfast  174.964286   158.5\n",
       "Private room in rental unit        124.205607   108.0\n",
       "Private room in home               106.675000    92.0"
      ]
     },
     "execution_count": 54,
     "metadata": {},
     "output_type": "execute_result"
    }
   ],
   "source": [
    "\n",
    "#combining groups by calculating the mean and median for the top 10 property types.\n",
    "result = df[df['property_type'].isin(top_10_types)].groupby('property_type')['price'].agg(['mean', 'median'])\n",
    "\n",
    "#result\n",
    "result_sorted = result.sort_values(by='mean', ascending=False)\n",
    "\n",
    "result_sorted"
   ]
  },
  {
   "cell_type": "markdown",
   "metadata": {},
   "source": [
    "The results indicate a significant variation in prices among different property types, with some properties having much higher prices than others, causing a right-skewed distribution of prices."
   ]
  },
  {
   "cell_type": "markdown",
   "metadata": {},
   "source": [
    "### GRAPH 2 (BOXPLOT)"
   ]
  },
  {
   "cell_type": "markdown",
   "metadata": {},
   "source": [
    "With this dataset, we can also analyze the top 10 property types with the highest rating scores by grouping and calculating the average review scores."
   ]
  },
  {
   "cell_type": "code",
   "execution_count": null,
   "metadata": {},
   "outputs": [
    {
     "name": "stdout",
     "output_type": "stream",
     "text": [
      "property_type\n",
      "Camper/RV                       5.000000\n",
      "Tent                            5.000000\n",
      "Entire place                    4.986667\n",
      "Private room in nature lodge    4.960000\n",
      "Shared room in rental unit      4.950000\n",
      "Private room in farm stay       4.920000\n",
      "Room in bed and breakfast       4.915714\n",
      "Farm stay                       4.910000\n",
      "Private room in townhouse       4.906471\n",
      "Entire cabin                    4.900000\n",
      "Name: review_scores_rating, dtype: float64\n"
     ]
    }
   ],
   "source": [
    "property_type_mean = df.groupby('property_type')['review_scores_rating'].mean().sort_values(ascending=False)[0:10]\n",
    "print(property_type_mean)"
   ]
  },
  {
   "cell_type": "markdown",
   "metadata": {},
   "source": [
    "From the above results, it can be seen that Camper/RV has the highest rating score with a value of 5.0. With this rating score, it can be concluded that guests can benefit in choosing a property type according to their preferences. Below are the results obtained and visualized in a BOXPLOT."
   ]
  },
  {
   "cell_type": "code",
   "execution_count": null,
   "metadata": {},
   "outputs": [
    {
     "data": {
      "image/png": "[encoded data removed]",
      "text/plain": [
       "<Figure size 640x480 with 1 Axes>"
      ]
     },
     "metadata": {},
     "output_type": "display_data"
    }
   ],
   "source": [
    "sns.boxplot(x = \"review_scores_rating\", y = \"property_type\", data = df, order = df.groupby(\"property_type\")[\"review_scores_rating\"].mean().sort_values(ascending=False).index[0:10])\n",
    "plt.xlabel('Rating')\n",
    "plt.ylabel('Property Type')\n",
    "plt.title('Top 10 Review Scores Rating by Property Type')\n",
    "plt.show()"
   ]
  },
  {
   "cell_type": "markdown",
   "metadata": {},
   "source": [
    "### GRAPH 3 (BAR CHAR)"
   ]
  },
  {
   "cell_type": "code",
   "execution_count": null,
   "metadata": {},
   "outputs": [
    {
     "data": {
      "text/plain": [
       "array(['Noord-Oost', 'Noord-West', 'Gaasperdam - Driemond',\n",
       "       'Watergraafsmeer', 'IJburg - Zeeburgereiland',\n",
       "       'Geuzenveld - Slotermeer', 'Westerpark', 'Buitenveldert - Zuidas',\n",
       "       'Oud-Noord', 'Centrum-Oost', 'De Baarsjes - Oud-West',\n",
       "       'Slotervaart', 'De Pijp - Rivierenbuurt', 'Zuid', 'Oud-Oost',\n",
       "       'Oostelijk Havengebied - Indische Buurt', 'Centrum-West',\n",
       "       'Bos en Lommer', 'De Aker - Nieuw Sloten', 'Bijlmer-Centrum',\n",
       "       'Osdorp', 'Bijlmer-Oost'], dtype=object)"
      ]
     },
     "execution_count": 57,
     "metadata": {},
     "output_type": "execute_result"
    }
   ],
   "source": [
    "#show the unique values in the 'neighbourhood_cleansed' column.\n",
    "df[\"neighbourhood_cleansed\"].unique()"
   ]
  },
  {
   "cell_type": "markdown",
   "metadata": {},
   "source": [
    "Based on the results from the above data, we can find the coordinates of each area to create a heatmap on the dashboard. Below are the latitude and longitude results"
   ]
  },
  {
   "cell_type": "code",
   "execution_count": null,
   "metadata": {},
   "outputs": [
    {
     "data": {
      "text/html": [
       "<div>\n",
       "<style scoped>\n",
       "    .dataframe tbody tr th:only-of-type {\n",
       "        vertical-align: middle;\n",
       "    }\n",
       "\n",
       "    .dataframe tbody tr th {\n",
       "        vertical-align: top;\n",
       "    }\n",
       "\n",
       "    .dataframe thead th {\n",
       "        text-align: right;\n",
       "    }\n",
       "</style>\n",
       "<table border=\"1\" class=\"dataframe\">\n",
       "  <thead>\n",
       "    <tr style=\"text-align: right;\">\n",
       "      <th></th>\n",
       "      <th>neighbourhood_cleansed</th>\n",
       "      <th>latitude</th>\n",
       "      <th>longitude</th>\n",
       "    </tr>\n",
       "  </thead>\n",
       "  <tbody>\n",
       "    <tr>\n",
       "      <th>1</th>\n",
       "      <td>Noord-Oost</td>\n",
       "      <td>52.4009</td>\n",
       "      <td>4.9350</td>\n",
       "    </tr>\n",
       "    <tr>\n",
       "      <th>2</th>\n",
       "      <td>Noord-West</td>\n",
       "      <td>52.4100</td>\n",
       "      <td>4.8950</td>\n",
       "    </tr>\n",
       "    <tr>\n",
       "      <th>3</th>\n",
       "      <td>Gaasperdam - Driemond</td>\n",
       "      <td>52.3069</td>\n",
       "      <td>4.9881</td>\n",
       "    </tr>\n",
       "    <tr>\n",
       "      <th>9</th>\n",
       "      <td>Noord-Oost</td>\n",
       "      <td>52.4009</td>\n",
       "      <td>4.9350</td>\n",
       "    </tr>\n",
       "    <tr>\n",
       "      <th>11</th>\n",
       "      <td>Watergraafsmeer</td>\n",
       "      <td>52.3490</td>\n",
       "      <td>4.9410</td>\n",
       "    </tr>\n",
       "  </tbody>\n",
       "</table>\n",
       "</div>"
      ],
      "text/plain": [
       "   neighbourhood_cleansed  latitude  longitude\n",
       "1              Noord-Oost   52.4009     4.9350\n",
       "2              Noord-West   52.4100     4.8950\n",
       "3   Gaasperdam - Driemond   52.3069     4.9881\n",
       "9              Noord-Oost   52.4009     4.9350\n",
       "11        Watergraafsmeer   52.3490     4.9410"
      ]
     },
     "execution_count": 58,
     "metadata": {},
     "output_type": "execute_result"
    }
   ],
   "source": [
    "#Mmapping each area based on coordinate points.\n",
    "\n",
    "coordinates_dict = {\n",
    "    'Noord-Oost': (52.4009, 4.9350),\n",
    "    'Noord-West': (52.4100, 4.8950),\n",
    "    'Gaasperdam - Driemond': (52.3069, 4.9881),\n",
    "    'Watergraafsmeer': (52.3490, 4.9410),\n",
    "    'IJburg - Zeeburgereiland': (52.3590, 4.9740),\n",
    "    'Geuzenveld - Slotermeer': (52.3770, 4.8280),\n",
    "    'Westerpark': (52.3860, 4.8740),\n",
    "    'Buitenveldert - Zuidas': (52.3330, 4.8730),\n",
    "    'Oud-Noord': (52.3900, 4.9170),\n",
    "    'Centrum-Oost': (52.3670, 4.9150),\n",
    "    'De Baarsjes - Oud-West': (52.3650, 4.8700),\n",
    "    'Slotervaart': (52.3570, 4.8330),\n",
    "    'De Pijp - Rivierenbuurt': (52.3510, 4.8960),\n",
    "    'Zuid': (52.3450, 4.8760),\n",
    "    'Oud-Oost': (52.3600, 4.9210),\n",
    "    'Oostelijk Havengebied - Indische Buurt': (52.3650, 4.9410),\n",
    "    'Centrum-West': (52.3720, 4.8910),\n",
    "    'Bos en Lommer': (52.3790, 4.8490),\n",
    "    'De Aker - Nieuw Sloten': (52.3450, 4.8050),\n",
    "    'Bijlmer-Centrum': (52.3120, 4.9470),\n",
    "    'Osdorp': (52.3550, 4.7980),\n",
    "    'Bijlmer-Oost': (52.3230, 4.9600)\n",
    "}\n",
    "\n",
    "# create new columns \n",
    "df['latitude'] = df['neighbourhood_cleansed'].map(lambda x: coordinates_dict.get(x, (None, None))[0])\n",
    "df['longitude'] = df['neighbourhood_cleansed'].map(lambda x: coordinates_dict.get(x, (None, None))[1])\n",
    "\n",
    "#show the new columns\n",
    "df[['neighbourhood_cleansed', 'latitude', 'longitude']].head()"
   ]
  },
  {
   "cell_type": "markdown",
   "metadata": {},
   "source": [
    "It can also calculate the average prices for each area within the top ten regions."
   ]
  },
  {
   "cell_type": "code",
   "execution_count": null,
   "metadata": {},
   "outputs": [
    {
     "data": {
      "text/plain": [
       "neighbourhood_cleansed\n",
       "Centrum-Oost               283.360902\n",
       "Centrum-West               248.566263\n",
       "Buitenveldert - Zuidas     209.432432\n",
       "De Pijp - Rivierenbuurt    204.698212\n",
       "De Baarsjes - Oud-West     201.406417\n",
       "Bos en Lommer              199.600000\n",
       "De Aker - Nieuw Sloten     186.620690\n",
       "Bijlmer-Oost               166.250000\n",
       "Bijlmer-Centrum            164.909091\n",
       "Gaasperdam - Driemond       88.869565\n",
       "Name: price, dtype: float64"
      ]
     },
     "execution_count": 59,
     "metadata": {},
     "output_type": "execute_result"
    }
   ],
   "source": [
    "#calculating the average prices for the top ten regions.\n",
    "neighborhood_price_stats = df.groupby('neighbourhood_cleansed')['price'].mean()[0:10].sort_values(ascending=False)\n",
    "neighborhood_price_stats"
   ]
  },
  {
   "cell_type": "markdown",
   "metadata": {},
   "source": [
    "The average property prices tend to be higher in the 'Centrum-Oost' and 'Centrum-West' areas, while 'Gaasperdam - Driemond' has the lowest prices. This indicates a variation in property prices based on geographical location, with the city center having higher prices than suburban areas. With the above data results, the conclusion can be visualized using a Bar Chart as shown below:"
   ]
  },
  {
   "cell_type": "code",
   "execution_count": null,
   "metadata": {},
   "outputs": [
    {
     "data": {
      "image/png": "[encoded data removed]",
      "text/plain": [
       "<Figure size 1200x600 with 1 Axes>"
      ]
     },
     "metadata": {},
     "output_type": "display_data"
    }
   ],
   "source": [
    "#create bar char\n",
    "plt.figure(figsize=(12, 6))\n",
    "neighborhood_price_stats.plot(kind='bar', color='gray')\n",
    "plt.title('Rata-rata Harga Sewa Properti per Daerah')\n",
    "plt.xlabel('Daerah')\n",
    "plt.ylabel('Harga Rata-rata')\n",
    "plt.xticks(rotation=90)\n",
    "plt.show()"
   ]
  },
  {
   "cell_type": "markdown",
   "metadata": {},
   "source": [
    "### 4. LINE GRAPH"
   ]
  },
  {
   "cell_type": "markdown",
   "metadata": {},
   "source": [
    "This analysis can also be extended to calculate average prices based on the number of bedrooms by grouping the data."
   ]
  },
  {
   "cell_type": "code",
   "execution_count": null,
   "metadata": {},
   "outputs": [
    {
     "data": {
      "text/plain": [
       "bedrooms\n",
       "1.0     176.869565\n",
       "2.0     247.083582\n",
       "3.0     318.096774\n",
       "4.0     306.181818\n",
       "5.0     364.800000\n",
       "6.0     175.000000\n",
       "10.0    739.500000\n",
       "Name: price, dtype: float64"
      ]
     },
     "execution_count": 61,
     "metadata": {},
     "output_type": "execute_result"
    }
   ],
   "source": [
    "#calculating the average prices based on the number of bedrooms\n",
    "price_by_bedrooms = df.groupby('bedrooms')['price'].mean()\n",
    "price_by_bedrooms"
   ]
  },
  {
   "cell_type": "markdown",
   "metadata": {},
   "source": [
    "The data above indicates that the average price increases with the number of bedrooms, reaching its peak at 10 bedrooms, showing a trend of price increase with an increasing number of bedrooms. Below is a line graph to visualize the data as described:"
   ]
  },
  {
   "cell_type": "code",
   "execution_count": null,
   "metadata": {},
   "outputs": [
    {
     "data": {
      "image/png": "[encoded data removed]",
      "text/plain": [
       "<Figure size 1200x600 with 1 Axes>"
      ]
     },
     "metadata": {},
     "output_type": "display_data"
    }
   ],
   "source": [
    "#creating a Line Graph for the average prices based on the number of bedrooms.\n",
    "plt.figure(figsize=(12, 6))\n",
    "plt.plot(price_by_bedrooms.index, price_by_bedrooms.values, marker='o', color='red')\n",
    "plt.title('Price vs. Number of Bedrooms in Airbnb Listings')\n",
    "plt.xlabel('Number of Bedrooms')\n",
    "plt.ylabel('Average Price')\n",
    "plt.grid(True)\n",
    "plt.show()"
   ]
  },
  {
   "cell_type": "markdown",
   "metadata": {},
   "source": [
    "### Descriptive Statistics"
   ]
  },
  {
   "cell_type": "markdown",
   "metadata": {},
   "source": [
    "From this dataset, you can also check the correlation between price and review score rating."
   ]
  },
  {
   "cell_type": "code",
   "execution_count": null,
   "metadata": {},
   "outputs": [
    {
     "name": "stdout",
     "output_type": "stream",
     "text": [
      "Korelasi antara price dan review_scores_rating: -0.04\n",
      "P-Value: 0.114112\n"
     ]
    }
   ],
   "source": [
    "#calculating the correlation between price and review score rating\n",
    "correlation, p_value = pearsonr(df['price'], df['review_scores_rating'])\n",
    "\n",
    "print(f\"Korelasi antara price dan review_scores_rating: {correlation:.2f}\")\n",
    "print(f\"P-Value: {p_value:.6f}\")"
   ]
  },
  {
   "cell_type": "markdown",
   "metadata": {},
   "source": [
    "With the above results, there is no strong or significant relationship between price and the rating scores given by guests."
   ]
  },
  {
   "cell_type": "markdown",
   "metadata": {},
   "source": [
    "### Inferential Statistics\n",
    "\n",
    "Next, we can analyze whether the superhost_group and non_superhost_group have an influence on price comparisons."
   ]
  },
  {
   "cell_type": "markdown",
   "metadata": {},
   "source": [
    "H0 (Null Hypothesis): There is no significant difference in property prices between Superhosts and non-Superhosts.\n",
    "\n",
    "H1 (Alternative Hypothesis): There is a significant difference in property prices between Superhosts and non-Superhosts.\n"
   ]
  },
  {
   "cell_type": "code",
   "execution_count": null,
   "metadata": {},
   "outputs": [
    {
     "name": "stdout",
     "output_type": "stream",
     "text": [
      "Hasil uji hipotesis: Tidak dapat menolak H0. (p-value = 0.15490331263861698)\n"
     ]
    }
   ],
   "source": [
    "\n",
    "\"split data\"\n",
    "superhost_group = df[df['host_is_superhost'] == True]\n",
    "non_superhost_group = df[df['host_is_superhost'] == False]\n",
    "\n",
    "\"test hypothesis\"\n",
    "t_statistic, p_value = stats.ttest_ind(superhost_group['price'], non_superhost_group['price'])\n",
    "\n",
    "\"significant level\"\n",
    "alpha = 0.05\n",
    "\n",
    "\n",
    "\"t_statistic\"\n",
    "if p_value < alpha:\n",
    "    print(f\"Hasil uji hipotesis: Reject H0. (p-value = {p_value})\")\n",
    "else:\n",
    "    print(f\"Hasil uji hipotesis: Tidak dapat menolak H0. (p-value = {p_value})\")\n"
   ]
  },
  {
   "cell_type": "markdown",
   "metadata": {},
   "source": [
    "In this analysis, there is no evidence to suggest that the prices of properties hosted by Superhosts differ significantly from the prices of properties not hosted by Superhosts."
   ]
  },
  {
   "cell_type": "code",
   "execution_count": null,
   "metadata": {},
   "outputs": [],
   "source": [
    "\"create new data frame\"\n",
    "superhost_group['host']='super_host'\n",
    "non_superhost_group['host']='non_superhost'\n",
    "host_df = pd.concat([superhost_group, non_superhost_group])"
   ]
  },
  {
   "cell_type": "markdown",
   "metadata": {},
   "source": [
    "## Conclusion\n"
   ]
  },
  {
   "cell_type": "markdown",
   "metadata": {},
   "source": [
    "In the analysis of Airbnb data in Amsterdam, it can be concluded that:\n",
    "\n",
    "- The most common property type is \"Entire rental unit.\"\n",
    "\n",
    "- \"Camper/RV\" has the highest rating score.\n",
    "\n",
    "- The price distribution tends to be right-skewed, with prices varying based on property type, location, and the number of bedrooms.\n",
    "\n",
    "- The correlation between price and rating score is weak, and being a Superhost does not significantly affect property prices.\n",
    "\n",
    "Recommendations:\n",
    "\n",
    "- Adjusting prices.\n",
    "\n",
    "- Promoting properties with high rating scores.\n",
    "\n",
    "- Focusing on high-performing areas.\n",
    "\n",
    "- Continuous market monitoring."
   ]
  },
  {
   "cell_type": "markdown",
   "metadata": {},
   "source": [
    "## Dashboard"
   ]
  },
  {
   "cell_type": "code",
   "execution_count": null,
   "metadata": {},
   "outputs": [],
   "source": [
    "\"save new dataset\"\n",
    "df.to_csv('milestonedshb.csv', index=False)"
   ]
  },
  {
   "cell_type": "code",
   "execution_count": null,
   "metadata": {},
   "outputs": [],
   "source": [
    "\"save new dataset\"\n",
    "host_df.to_csv('superhost_group.csv', index = False)"
   ]
  },
  {
   "cell_type": "markdown",
   "metadata": {},
   "source": [
    "Link Tableau:\n",
    "\n",
    "https://public.tableau.com/app/profile/sifra.siregar/viz/Milestone_1_SifraSiregar/Dashboard1?publish=yes\n"
   ]
  }
 ],
 "metadata": {
  "kernelspec": {
   "display_name": "base",
   "language": "python",
   "name": "python3"
  },
  "language_info": {
   "codemirror_mode": {
    "name": "ipython",
    "version": 3
   },
   "file_extension": ".py",
   "mimetype": "text/x-python",
   "name": "python",
   "nbconvert_exporter": "python",
   "pygments_lexer": "ipython3",
   "version": "3.11.5"
  },
  "orig_nbformat": 4
 },
 "nbformat": 4,
 "nbformat_minor": 2
}
